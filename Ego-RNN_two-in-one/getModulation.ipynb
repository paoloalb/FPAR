{
 "cells": [
  {
   "cell_type": "code",
   "execution_count": 0,
   "metadata": {
    "colab": {},
    "colab_type": "code",
    "id": "XtjiLrhv7RkF"
   },
   "outputs": [],
   "source": [
    "import numpy as np\n",
    "#from torchvision import transforms\n",
    "import spatial_transforms as transforms\n",
    "import cv2\n",
    "from objectAttentionModelConvLSTM import *\n",
    "from attentionMapModel import attentionMap\n",
    "from PIL import Image\n",
    "import os\n",
    "import imageio"
   ]
  },
  {
   "cell_type": "code",
   "execution_count": 3,
   "metadata": {
    "colab": {
     "base_uri": "https://localhost:8080/",
     "height": 491,
     "referenced_widgets": [
      "6a5be47fe9624392808978e94d4806ba",
      "64b3fe87d07544aabb3d1c8c99bbdd00",
      "505be910da504a3dace2073cdf3bcca3",
      "427793e296674044aad26f797874f3f3",
      "21238a3700174f298a5e0fa1c9c01f65",
      "4efbb1a70ab24cadb53be59fd304abf6",
      "b4b8c4259f3d402288dc6f88391f91b5",
      "9b3cc7e858d64e24b1bd41e0b622e072"
     ]
    },
    "colab_type": "code",
    "executionInfo": {
     "elapsed": 25306,
     "status": "ok",
     "timestamp": 1591782259527,
     "user": {
      "displayName": "Laboratorio MLDL",
      "photoUrl": "",
      "userId": "15250599834567100244"
     },
     "user_tz": -120
    },
    "id": "ts9zwQlI7SvL",
    "outputId": "7527df08-3ba4-460a-bf22-edc671651837"
   },
   "outputs": [
    {
     "name": "stderr",
     "output_type": "stream",
     "text": [
      "Downloading: \"https://download.pytorch.org/models/resnet34-333f7ec4.pth\" to /root/.cache/torch/checkpoints/resnet34-333f7ec4.pth\n"
     ]
    },
    {
     "data": {
      "application/vnd.jupyter.widget-view+json": {
       "model_id": "6a5be47fe9624392808978e94d4806ba",
       "version_major": 2,
       "version_minor": 0
      },
      "text/plain": [
       "HBox(children=(FloatProgress(value=0.0, max=87306240.0), HTML(value='')))"
      ]
     },
     "metadata": {
      "tags": []
     },
     "output_type": "display_data"
    },
    {
     "name": "stdout",
     "output_type": "stream",
     "text": [
      "\n"
     ]
    },
    {
     "name": "stderr",
     "output_type": "stream",
     "text": [
      "/content/drive/My Drive/Lorenzo/ego-rnn-two-in-one/MyConvLSTMCell.py:31: UserWarning: nn.init.xavier_normal is now deprecated in favor of nn.init.xavier_normal_.\n",
      "  torch.nn.init.xavier_normal(self.conv_i_xx.weight)\n",
      "/content/drive/My Drive/Lorenzo/ego-rnn-two-in-one/MyConvLSTMCell.py:32: UserWarning: nn.init.constant is now deprecated in favor of nn.init.constant_.\n",
      "  torch.nn.init.constant(self.conv_i_xx.bias, 0)\n",
      "/content/drive/My Drive/Lorenzo/ego-rnn-two-in-one/MyConvLSTMCell.py:33: UserWarning: nn.init.xavier_normal is now deprecated in favor of nn.init.xavier_normal_.\n",
      "  torch.nn.init.xavier_normal(self.conv_i_hh.weight)\n",
      "/content/drive/My Drive/Lorenzo/ego-rnn-two-in-one/MyConvLSTMCell.py:35: UserWarning: nn.init.xavier_normal is now deprecated in favor of nn.init.xavier_normal_.\n",
      "  torch.nn.init.xavier_normal(self.conv_f_xx.weight)\n",
      "/content/drive/My Drive/Lorenzo/ego-rnn-two-in-one/MyConvLSTMCell.py:36: UserWarning: nn.init.constant is now deprecated in favor of nn.init.constant_.\n",
      "  torch.nn.init.constant(self.conv_f_xx.bias, 0)\n",
      "/content/drive/My Drive/Lorenzo/ego-rnn-two-in-one/MyConvLSTMCell.py:37: UserWarning: nn.init.xavier_normal is now deprecated in favor of nn.init.xavier_normal_.\n",
      "  torch.nn.init.xavier_normal(self.conv_f_hh.weight)\n",
      "/content/drive/My Drive/Lorenzo/ego-rnn-two-in-one/MyConvLSTMCell.py:39: UserWarning: nn.init.xavier_normal is now deprecated in favor of nn.init.xavier_normal_.\n",
      "  torch.nn.init.xavier_normal(self.conv_c_xx.weight)\n",
      "/content/drive/My Drive/Lorenzo/ego-rnn-two-in-one/MyConvLSTMCell.py:40: UserWarning: nn.init.constant is now deprecated in favor of nn.init.constant_.\n",
      "  torch.nn.init.constant(self.conv_c_xx.bias, 0)\n",
      "/content/drive/My Drive/Lorenzo/ego-rnn-two-in-one/MyConvLSTMCell.py:41: UserWarning: nn.init.xavier_normal is now deprecated in favor of nn.init.xavier_normal_.\n",
      "  torch.nn.init.xavier_normal(self.conv_c_hh.weight)\n",
      "/content/drive/My Drive/Lorenzo/ego-rnn-two-in-one/MyConvLSTMCell.py:43: UserWarning: nn.init.xavier_normal is now deprecated in favor of nn.init.xavier_normal_.\n",
      "  torch.nn.init.xavier_normal(self.conv_o_xx.weight)\n",
      "/content/drive/My Drive/Lorenzo/ego-rnn-two-in-one/MyConvLSTMCell.py:44: UserWarning: nn.init.constant is now deprecated in favor of nn.init.constant_.\n",
      "  torch.nn.init.constant(self.conv_o_xx.bias, 0)\n",
      "/content/drive/My Drive/Lorenzo/ego-rnn-two-in-one/MyConvLSTMCell.py:45: UserWarning: nn.init.xavier_normal is now deprecated in favor of nn.init.xavier_normal_.\n",
      "  torch.nn.init.xavier_normal(self.conv_o_hh.weight)\n"
     ]
    }
   ],
   "source": [
    "DEVICE = \"cuda\"\n",
    "\n",
    "####################Model definition###############################\n",
    "num_classes = 61  # Classes in the pre-trained model\n",
    "mem_size = 512\n",
    "model_state_dict = '/content/drive/My Drive/Lorenzo/ego-rnn-two-in-one/results/16frames_two_in_one/rgb_16frames_two_in_one_3/model_rgb_state_dict.pth'  # Weights of the pre-trained model\n",
    "\n",
    "model = attentionModel(num_classes=num_classes, mem_size=mem_size)\n",
    "model.load_state_dict(torch.load(model_state_dict), strict=True)\n",
    "\n",
    "model.train(False)\n",
    "for params in model.parameters():\n",
    "    params.requires_grad = False\n",
    "\n",
    "model = model.to(DEVICE)\n",
    "###################################################################"
   ]
  },
  {
   "cell_type": "code",
   "execution_count": 0,
   "metadata": {
    "colab": {},
    "colab_type": "code",
    "id": "FemNE9vq7vcN"
   },
   "outputs": [],
   "source": [
    "normalize = transforms.Normalize(\n",
    "    mean=[0.485, 0.456, 0.406],\n",
    "    std=[0.229, 0.224, 0.225]\n",
    ")\n",
    "\n",
    "preprocess = transforms.Compose([\n",
    "    transforms.Scale(256),\n",
    "    transforms.CenterCrop(224),\n",
    "    transforms.ToTensor(),\n",
    "    normalize])"
   ]
  },
  {
   "cell_type": "code",
   "execution_count": 5,
   "metadata": {
    "colab": {
     "base_uri": "https://localhost:8080/",
     "height": 357
    },
    "colab_type": "code",
    "executionInfo": {
     "elapsed": 39452,
     "status": "ok",
     "timestamp": 1591782298993,
     "user": {
      "displayName": "Laboratorio MLDL",
      "photoUrl": "",
      "userId": "15250599834567100244"
     },
     "user_tz": -120
    },
    "id": "Pqvsg2so8D5n",
    "outputId": "57c1c52b-4717-4cf2-ac97-cd782eb20727"
   },
   "outputs": [
    {
     "name": "stdout",
     "output_type": "stream",
     "text": [
      "1\n",
      "2\n",
      "3\n",
      "4\n",
      "5\n",
      "6\n",
      "7\n",
      "8\n",
      "9\n",
      "10\n",
      "11\n",
      "12\n",
      "13\n",
      "14\n",
      "15\n",
      "16\n",
      "17\n",
      "18\n",
      "19\n",
      "20\n"
     ]
    }
   ],
   "source": [
    "in_path = \"/content/drive/My Drive/Lorenzo/ego-rnn-two-in-one/get_modulation/frames\"\n",
    "out_path = \"/content/drive/My Drive/Lorenzo/ego-rnn-two-in-one/get_modulation/out\"\n",
    "\n",
    "inputFlow = []\n",
    "inputFrame = []\n",
    "\n",
    "frames = []\n",
    "for i in range(1, len(os.listdir(in_path+\"/rgb\"))+1):\n",
    "    print(i)\n",
    "\n",
    "    # FLOW X\n",
    "    fl_name = in_path + '/X/flow_x_' + str(int(round(i))).zfill(5) + '.png'  # zfill used to add leading zeros\n",
    "    img = Image.open(fl_name)  # load single optical x frame\n",
    "    inputFlow.append(preprocess(img.convert('L'), inv=False, flow=True))\n",
    "\n",
    "    # FLOW Y\n",
    "    fl_name = in_path + '/Y/flow_y_' + str(int(round(i))).zfill(5) + '.png'\n",
    "    img = Image.open(fl_name)  # load single optical y frame\n",
    "    inputFlow.append(preprocess(img.convert('L'), inv=False, flow=True))\n",
    "\n",
    "    # RGB FRAME\n",
    "    fl_name = in_path + '/rgb/' + 'rgb' + str(int(np.floor(i))).zfill(4) + \".png\"\n",
    "    img = Image.open(fl_name)  # load single rgb frame\n",
    "    inputFrame.append(preprocess(img.convert('RGB')))\n",
    "\n",
    "\n",
    "inputFlow = torch.stack(inputFlow, 0).squeeze(1)  # flow\n",
    "inputFrame = torch.stack(inputFrame, 0)  # frame\n",
    "\n",
    "inputFlow = inputFlow.unsqueeze(0)\n",
    "inputFrame = inputFrame.unsqueeze(0)\n",
    "\n",
    "inputFrame = Variable(inputFrame.permute(1, 0, 2, 3, 4).to(DEVICE))\n",
    "    \n",
    "inputFlow = inputFlow.view(\n",
    "                    (inputFlow.shape[0], int(inputFlow.shape[1] / 2), 2, inputFlow.shape[2], inputFlow.shape[3]))\n",
    "inputFlow = Variable(\n",
    "                    inputFlow.permute(1, 0, 2, 3, 4).to(DEVICE))  # sequence length as first dimension\n"
   ]
  },
  {
   "cell_type": "code",
   "execution_count": 6,
   "metadata": {
    "colab": {
     "base_uri": "https://localhost:8080/",
     "height": 85
    },
    "colab_type": "code",
    "executionInfo": {
     "elapsed": 7074,
     "status": "ok",
     "timestamp": 1591782306498,
     "user": {
      "displayName": "Laboratorio MLDL",
      "photoUrl": "",
      "userId": "15250599834567100244"
     },
     "user_tz": -120
    },
    "id": "MFTFzCs6FuTY",
    "outputId": "db585d31-538a-424e-fc9b-765903d3ef08"
   },
   "outputs": [
    {
     "name": "stderr",
     "output_type": "stream",
     "text": [
      "/usr/local/lib/python3.6/dist-packages/torch/nn/functional.py:1569: UserWarning: nn.functional.sigmoid is deprecated. Use torch.sigmoid instead.\n",
      "  warnings.warn(\"nn.functional.sigmoid is deprecated. Use torch.sigmoid instead.\")\n",
      "/usr/local/lib/python3.6/dist-packages/torch/nn/functional.py:1558: UserWarning: nn.functional.tanh is deprecated. Use torch.tanh instead.\n",
      "  warnings.warn(\"nn.functional.tanh is deprecated. Use torch.tanh instead.\")\n"
     ]
    }
   ],
   "source": [
    "model((inputFrame, inputFlow), 3);"
   ]
  },
  {
   "cell_type": "code",
   "execution_count": 0,
   "metadata": {
    "colab": {},
    "colab_type": "code",
    "id": "fP6t2u3sLQ-Z"
   },
   "outputs": [],
   "source": [
    "pre, post, beta, gamma = model.resNet.get_modulation_data()"
   ]
  },
  {
   "cell_type": "code",
   "execution_count": 0,
   "metadata": {
    "colab": {},
    "colab_type": "code",
    "id": "-waj3pdv1NHb"
   },
   "outputs": [],
   "source": [
    "def make_gif(path, out_path):\n",
    "  kargs = {'duration': 0.05}                                                      # duration of single frame\n",
    "\n",
    "  frames=[]\n",
    "  for frame in sorted(os.listdir(path)):\n",
    "    frames.append(imageio.imread(os.path.join(path, frame)))\n",
    "\n",
    "  imageio.mimsave(out_path, frames, **kargs)                   # create gif"
   ]
  },
  {
   "cell_type": "code",
   "execution_count": 0,
   "metadata": {
    "colab": {},
    "colab_type": "code",
    "id": "P2nItY7mN7dP"
   },
   "outputs": [],
   "source": [
    "import matplotlib.pyplot as plt\n",
    "\n",
    "os.makedirs(out_path+\"/gif/\")\n"
   ]
  },
  {
   "cell_type": "code",
   "execution_count": 13,
   "metadata": {
    "colab": {
     "base_uri": "https://localhost:8080/",
     "height": 1000
    },
    "colab_type": "code",
    "executionInfo": {
     "elapsed": 94961,
     "status": "ok",
     "timestamp": 1591782482531,
     "user": {
      "displayName": "Laboratorio MLDL",
      "photoUrl": "",
      "userId": "15250599834567100244"
     },
     "user_tz": -120
    },
    "id": "Tp6p7lHBsqmN",
    "outputId": "a3fc0c58-4420-48f7-a736-ea24f3457b26"
   },
   "outputs": [
    {
     "name": "stdout",
     "output_type": "stream",
     "text": [
      "0\n",
      "1\n",
      "2\n",
      "3\n",
      "4\n",
      "5\n",
      "6\n",
      "7\n",
      "8\n",
      "9\n",
      "10\n",
      "11\n",
      "12\n",
      "13\n",
      "14\n",
      "15\n",
      "16\n",
      "17\n",
      "18\n",
      "19\n",
      "20\n",
      "21\n",
      "22\n",
      "23\n",
      "24\n",
      "25\n",
      "26\n",
      "27\n",
      "28\n",
      "29\n",
      "30\n",
      "31\n",
      "32\n",
      "33\n",
      "34\n",
      "35\n",
      "36\n",
      "37\n",
      "38\n",
      "39\n",
      "40\n",
      "41\n",
      "42\n",
      "43\n",
      "44\n",
      "45\n",
      "46\n",
      "47\n",
      "48\n",
      "49\n",
      "50\n",
      "51\n",
      "52\n",
      "53\n",
      "54\n",
      "55\n",
      "56\n",
      "57\n",
      "58\n",
      "59\n",
      "60\n",
      "61\n",
      "62\n",
      "63\n"
     ]
    }
   ],
   "source": [
    "for channel in range(64):\n",
    "  path = out_path + f\"/{channel}\"\n",
    "  os.makedirs(path)\n",
    "  os.makedirs(path+\"/pre\")\n",
    "  os.makedirs(path+\"/post\")\n",
    "  os.makedirs(path+\"/beta\")\n",
    "  os.makedirs(path+\"/gamma\")\n",
    "\n",
    "  print(channel)\n",
    "  for frame in range(20):\n",
    "    plt.imsave(path + f\"/pre/{frame}.png\", pre[frame][0][channel], cmap=\"Greys\")\n",
    "    plt.imsave(path + f\"/post/{frame}.png\", post[frame][0][channel], cmap=\"Greys\")\n",
    "    plt.imsave(path + f\"/beta/{frame}.png\", beta[frame][0][channel], cmap=\"Greys\")\n",
    "    plt.imsave(path + f\"/gamma/{frame}.png\", gamma[frame][0][channel], cmap=\"Greys\")\n",
    "\n",
    "\n",
    "  make_gif(path + f\"/pre/\", out_path+f\"/gif/{channel}_pre.gif\")\n",
    "  make_gif(path + f\"/post/\", out_path+f\"/gif/{channel}_post.gif\")\n",
    "  make_gif(path + f\"/beta/\", out_path+f\"/gif/{channel}_beta.gif\")\n",
    "  make_gif(path + f\"/gamma/\", out_path+f\"/gif/{channel}_gamma.gif\")\n"
   ]
  },
  {
   "cell_type": "code",
   "execution_count": 0,
   "metadata": {
    "colab": {},
    "colab_type": "code",
    "id": "aMGYbI8w1GRV"
   },
   "outputs": [],
   "source": []
  }
 ],
 "metadata": {
  "accelerator": "GPU",
  "colab": {
   "authorship_tag": "ABX9TyMFKGxULffrn+GQvETWMWSC",
   "mount_file_id": "1nR-PMFNOPpGbq5M3Y0V7u7T8QZjMDc2K",
   "name": "getModulation.ipynb",
   "provenance": []
  },
  "kernelspec": {
   "display_name": "Python 3",
   "language": "python",
   "name": "python3"
  },
  "language_info": {
   "codemirror_mode": {
    "name": "ipython",
    "version": 3
   },
   "file_extension": ".py",
   "mimetype": "text/x-python",
   "name": "python",
   "nbconvert_exporter": "python",
   "pygments_lexer": "ipython3",
   "version": "3.7.5"
  },
  "widgets": {
   "application/vnd.jupyter.widget-state+json": {
    "21238a3700174f298a5e0fa1c9c01f65": {
     "model_module": "@jupyter-widgets/controls",
     "model_name": "ProgressStyleModel",
     "state": {
      "_model_module": "@jupyter-widgets/controls",
      "_model_module_version": "1.5.0",
      "_model_name": "ProgressStyleModel",
      "_view_count": null,
      "_view_module": "@jupyter-widgets/base",
      "_view_module_version": "1.2.0",
      "_view_name": "StyleView",
      "bar_color": null,
      "description_width": "initial"
     }
    },
    "427793e296674044aad26f797874f3f3": {
     "model_module": "@jupyter-widgets/controls",
     "model_name": "HTMLModel",
     "state": {
      "_dom_classes": [],
      "_model_module": "@jupyter-widgets/controls",
      "_model_module_version": "1.5.0",
      "_model_name": "HTMLModel",
      "_view_count": null,
      "_view_module": "@jupyter-widgets/controls",
      "_view_module_version": "1.5.0",
      "_view_name": "HTMLView",
      "description": "",
      "description_tooltip": null,
      "layout": "IPY_MODEL_9b3cc7e858d64e24b1bd41e0b622e072",
      "placeholder": "​",
      "style": "IPY_MODEL_b4b8c4259f3d402288dc6f88391f91b5",
      "value": " 83.3M/83.3M [00:17&lt;00:00, 5.08MB/s]"
     }
    },
    "4efbb1a70ab24cadb53be59fd304abf6": {
     "model_module": "@jupyter-widgets/base",
     "model_name": "LayoutModel",
     "state": {
      "_model_module": "@jupyter-widgets/base",
      "_model_module_version": "1.2.0",
      "_model_name": "LayoutModel",
      "_view_count": null,
      "_view_module": "@jupyter-widgets/base",
      "_view_module_version": "1.2.0",
      "_view_name": "LayoutView",
      "align_content": null,
      "align_items": null,
      "align_self": null,
      "border": null,
      "bottom": null,
      "display": null,
      "flex": null,
      "flex_flow": null,
      "grid_area": null,
      "grid_auto_columns": null,
      "grid_auto_flow": null,
      "grid_auto_rows": null,
      "grid_column": null,
      "grid_gap": null,
      "grid_row": null,
      "grid_template_areas": null,
      "grid_template_columns": null,
      "grid_template_rows": null,
      "height": null,
      "justify_content": null,
      "justify_items": null,
      "left": null,
      "margin": null,
      "max_height": null,
      "max_width": null,
      "min_height": null,
      "min_width": null,
      "object_fit": null,
      "object_position": null,
      "order": null,
      "overflow": null,
      "overflow_x": null,
      "overflow_y": null,
      "padding": null,
      "right": null,
      "top": null,
      "visibility": null,
      "width": null
     }
    },
    "505be910da504a3dace2073cdf3bcca3": {
     "model_module": "@jupyter-widgets/controls",
     "model_name": "FloatProgressModel",
     "state": {
      "_dom_classes": [],
      "_model_module": "@jupyter-widgets/controls",
      "_model_module_version": "1.5.0",
      "_model_name": "FloatProgressModel",
      "_view_count": null,
      "_view_module": "@jupyter-widgets/controls",
      "_view_module_version": "1.5.0",
      "_view_name": "ProgressView",
      "bar_style": "success",
      "description": "100%",
      "description_tooltip": null,
      "layout": "IPY_MODEL_4efbb1a70ab24cadb53be59fd304abf6",
      "max": 87306240,
      "min": 0,
      "orientation": "horizontal",
      "style": "IPY_MODEL_21238a3700174f298a5e0fa1c9c01f65",
      "value": 87306240
     }
    },
    "64b3fe87d07544aabb3d1c8c99bbdd00": {
     "model_module": "@jupyter-widgets/base",
     "model_name": "LayoutModel",
     "state": {
      "_model_module": "@jupyter-widgets/base",
      "_model_module_version": "1.2.0",
      "_model_name": "LayoutModel",
      "_view_count": null,
      "_view_module": "@jupyter-widgets/base",
      "_view_module_version": "1.2.0",
      "_view_name": "LayoutView",
      "align_content": null,
      "align_items": null,
      "align_self": null,
      "border": null,
      "bottom": null,
      "display": null,
      "flex": null,
      "flex_flow": null,
      "grid_area": null,
      "grid_auto_columns": null,
      "grid_auto_flow": null,
      "grid_auto_rows": null,
      "grid_column": null,
      "grid_gap": null,
      "grid_row": null,
      "grid_template_areas": null,
      "grid_template_columns": null,
      "grid_template_rows": null,
      "height": null,
      "justify_content": null,
      "justify_items": null,
      "left": null,
      "margin": null,
      "max_height": null,
      "max_width": null,
      "min_height": null,
      "min_width": null,
      "object_fit": null,
      "object_position": null,
      "order": null,
      "overflow": null,
      "overflow_x": null,
      "overflow_y": null,
      "padding": null,
      "right": null,
      "top": null,
      "visibility": null,
      "width": null
     }
    },
    "6a5be47fe9624392808978e94d4806ba": {
     "model_module": "@jupyter-widgets/controls",
     "model_name": "HBoxModel",
     "state": {
      "_dom_classes": [],
      "_model_module": "@jupyter-widgets/controls",
      "_model_module_version": "1.5.0",
      "_model_name": "HBoxModel",
      "_view_count": null,
      "_view_module": "@jupyter-widgets/controls",
      "_view_module_version": "1.5.0",
      "_view_name": "HBoxView",
      "box_style": "",
      "children": [
       "IPY_MODEL_505be910da504a3dace2073cdf3bcca3",
       "IPY_MODEL_427793e296674044aad26f797874f3f3"
      ],
      "layout": "IPY_MODEL_64b3fe87d07544aabb3d1c8c99bbdd00"
     }
    },
    "9b3cc7e858d64e24b1bd41e0b622e072": {
     "model_module": "@jupyter-widgets/base",
     "model_name": "LayoutModel",
     "state": {
      "_model_module": "@jupyter-widgets/base",
      "_model_module_version": "1.2.0",
      "_model_name": "LayoutModel",
      "_view_count": null,
      "_view_module": "@jupyter-widgets/base",
      "_view_module_version": "1.2.0",
      "_view_name": "LayoutView",
      "align_content": null,
      "align_items": null,
      "align_self": null,
      "border": null,
      "bottom": null,
      "display": null,
      "flex": null,
      "flex_flow": null,
      "grid_area": null,
      "grid_auto_columns": null,
      "grid_auto_flow": null,
      "grid_auto_rows": null,
      "grid_column": null,
      "grid_gap": null,
      "grid_row": null,
      "grid_template_areas": null,
      "grid_template_columns": null,
      "grid_template_rows": null,
      "height": null,
      "justify_content": null,
      "justify_items": null,
      "left": null,
      "margin": null,
      "max_height": null,
      "max_width": null,
      "min_height": null,
      "min_width": null,
      "object_fit": null,
      "object_position": null,
      "order": null,
      "overflow": null,
      "overflow_x": null,
      "overflow_y": null,
      "padding": null,
      "right": null,
      "top": null,
      "visibility": null,
      "width": null
     }
    },
    "b4b8c4259f3d402288dc6f88391f91b5": {
     "model_module": "@jupyter-widgets/controls",
     "model_name": "DescriptionStyleModel",
     "state": {
      "_model_module": "@jupyter-widgets/controls",
      "_model_module_version": "1.5.0",
      "_model_name": "DescriptionStyleModel",
      "_view_count": null,
      "_view_module": "@jupyter-widgets/base",
      "_view_module_version": "1.2.0",
      "_view_name": "StyleView",
      "description_width": ""
     }
    }
   }
  }
 },
 "nbformat": 4,
 "nbformat_minor": 1
}
